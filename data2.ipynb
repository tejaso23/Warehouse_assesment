{
 "cells": [
  {
   "cell_type": "code",
   "execution_count": 1,
   "id": "e5aa09de-6099-43ec-a9d4-763e0a3dac77",
   "metadata": {},
   "outputs": [],
   "source": [
    "import pandas as pd\n",
    "import numpy as np\n",
    "import os\n",
    "from dotenv import load_dotenv\n",
    "\n",
    "load_dotenv()\n",
    "\n",
    "AIRTABLE_API_KEY = os.getenv(\"pata6B6aXqsEi1Z2z.bb94655c01c369fc867f60c8b97e812ea6514fec77a52eb5975118fc5a864e8e\")\n",
    "AIRTABLE_BASE_ID = os.getenv(\"AIRTABLE_BASE_ID\")\n",
    "AIRTABLE_TABLE_NAME = os.getenv(\"AIRTABLE_TABLE_NAME\")"
   ]
  },
  {
   "cell_type": "code",
   "execution_count": 2,
   "id": "c61e40b8-47fa-441f-8e65-193a462c0702",
   "metadata": {},
   "outputs": [
    {
     "name": "stdout",
     "output_type": "stream",
     "text": [
      "['Chronology', 'Legend', 'Current Inventory ', 'Combos skus', 'Msku With Skus', 'Outbound', 'Returns', 'Outflow', 'Inwards', 'inventory Upload FK And Meesho', 'Inventory Upload Amazon', 'packaging msku', 'Location ']\n"
     ]
    }
   ],
   "source": [
    "file_path = \"inventory_data.xlsx\"\n",
    "xls = pd.ExcelFile(file_path)\n",
    "print(xls.sheet_names)"
   ]
  },
  {
   "cell_type": "code",
   "execution_count": 3,
   "id": "2721ec90-8ddd-4145-b55a-b031d321c80f",
   "metadata": {},
   "outputs": [
    {
     "name": "stdout",
     "output_type": "stream",
     "text": [
      "Sheets available: dict_keys(['Chronology', 'Legend', 'Current Inventory ', 'Combos skus', 'Msku With Skus', 'Outbound', 'Returns', 'Outflow', 'Inwards', 'inventory Upload FK And Meesho', 'Inventory Upload Amazon', 'packaging msku', 'Location '])\n"
     ]
    }
   ],
   "source": [
    "# Load the master Excel file with all warehouse and marketplace data\n",
    "file_path = \"inventory_data.xlsx\"\n",
    "\n",
    "# Load multiple sheets from the file\n",
    "sheets_dict = pd.read_excel(file_path, sheet_name=None)\n",
    "\n",
    "# Display available sheet names\n",
    "print(\"Sheets available:\", sheets_dict.keys())\n",
    "\n",
    "# Load specific sheets\n",
    "df_inventory = sheets_dict['Current Inventory ']  # Current inventory across all warehouses\n",
    "df_combos = sheets_dict['Combos skus']  # Combo SKU breakdown\n",
    "df_msku_mapping = sheets_dict['Msku With Skus']  # Mapping of SKUs to Master SKUs\n",
    "df_outbound = sheets_dict['Outbound']  # Outbound orders\n",
    "df_returns = sheets_dict['Returns']  # Return inventory\n",
    "df_outflow = sheets_dict['Outflow']  # Outflows from stock\n",
    "df_inwards = sheets_dict['Inwards']  # Incoming stock\n",
    "df_packaging = sheets_dict['packaging msku']  # Additional items like battery, covers\n",
    "df_location = sheets_dict['Location ']  # Inventory location-wise distribution\n",
    "\n",
    "# Load 7 days sales data from different marketplaces\n",
    "df_sales_amazon = pd.read_csv(\"cste amazon.csv\")\n",
    "df_sales_flipkart = pd.read_csv(\"Cste FK.csv\")\n",
    "df_sales_meesho = pd.read_csv(\"cste meesho.csv\")"
   ]
  },
  {
   "cell_type": "code",
   "execution_count": 4,
   "id": "a4ef1f83-bb00-471b-837e-05f0f2702f66",
   "metadata": {},
   "outputs": [],
   "source": [
    "df_inventory = sheets_dict['Current Inventory '].iloc[1:]  # Skip the first row\n",
    "df_inventory.columns = sheets_dict['Current Inventory '].iloc[0]  # Set the correct header\n",
    "df_inventory.reset_index(drop=True, inplace=True)"
   ]
  },
  {
   "cell_type": "code",
   "execution_count": 5,
   "id": "e4809982-8acc-44bc-a310-acf5721d49b9",
   "metadata": {},
   "outputs": [],
   "source": [
    "sku_mapping = dict(zip(df_msku_mapping['sku'], df_msku_mapping['msku']))\n",
    "\n",
    "df_sales_amazon[\"Master SKU\"] = df_sales_amazon[\"MSKU\"].map(sku_mapping)\n",
    "df_sales_flipkart[\"Master SKU\"] = df_sales_flipkart[\"SKU\"].map(sku_mapping)\n",
    "df_sales_meesho[\"Master SKU\"] = df_sales_meesho[\"SKU\"].map(sku_mapping)"
   ]
  },
  {
   "cell_type": "code",
   "execution_count": 9,
   "id": "4885ec46-0240-481c-b0f1-35cb9edfc085",
   "metadata": {},
   "outputs": [
    {
     "name": "stdout",
     "output_type": "stream",
     "text": [
      "Columns in df_sales_amazon: ['Ordered On', 'Shipment ID', 'ORDER ITEM ID', 'Order Id', 'HSN CODE', 'Order State', 'Order Type', 'FSN', 'SKU', 'Product', 'Invoice No.', 'CGST', 'IGST', 'SGST', 'Invoice Date (mm/dd/yy)', 'Invoice Amount', 'Selling Price Per Item', 'Shipping and Handling Charges', 'Quantity', 'Price inc. FKMP Contribution & Subsidy', 'Buyer name', 'Ship to name', 'Address Line 1', 'Address Line 2', 'City', 'State', 'PIN Code', 'Dispatch After date', 'Dispatch by date', 'Form requirement', 'Tracking ID', 'Package Length (cm)', 'Package Breadth (cm)', 'Package Height (cm)', 'Package Weight (kg)', 'Ready to Make', 'With Attachment', 'Master SKU']\n"
     ]
    }
   ],
   "source": [
    "print(\"Columns in df_sales_amazon:\", df_sales_flipkart.columns.tolist())"
   ]
  },
  {
   "cell_type": "code",
   "execution_count": 13,
   "id": "43d5cc2b-2066-4937-aa51-b18fd593a078",
   "metadata": {},
   "outputs": [
    {
     "name": "stderr",
     "output_type": "stream",
     "text": [
      "C:\\Users\\Tejas\\AppData\\Local\\Temp\\ipykernel_23700\\3736697072.py:15: SettingWithCopyWarning: \n",
      "A value is trying to be set on a copy of a slice from a DataFrame\n",
      "\n",
      "See the caveats in the documentation: https://pandas.pydata.org/pandas-docs/stable/user_guide/indexing.html#returning-a-view-versus-a-copy\n",
      "  df_inventory.loc[df_inventory[\"msku\"] == msku, \"Opening Stock\"] -= quantity_sold\n"
     ]
    }
   ],
   "source": [
    "def update_inventory(df_sales, df_inventory):\n",
    "    if \"Master SKU\" not in df_sales.columns:\n",
    "        print(\"Error: 'Master SKU' column not found in sales data\")\n",
    "        return df_inventory\n",
    "\n",
    "    if \"msku\" not in df_inventory.columns:  # Ensure inventory has 'msku'\n",
    "        print(\"Error: 'msku' column not found in inventory data\")\n",
    "        return df_inventory\n",
    "\n",
    "    for index, row in df_sales.iterrows():\n",
    "        msku = row[\"Master SKU\"]\n",
    "        quantity_sold = row[\"Quantity\"]\n",
    "\n",
    "        if msku in df_inventory[\"msku\"].values:\n",
    "            df_inventory.loc[df_inventory[\"msku\"] == msku, \"Opening Stock\"] -= quantity_sold\n",
    "\n",
    "    return df_inventory\n",
    "\n",
    "# Ensure column names are stripped of spaces\n",
    "df_sales_amazon.columns = df_sales_amazon.columns.str.strip()\n",
    "df_sales_flipkart.columns = df_sales_flipkart.columns.str.strip()\n",
    "df_sales_meesho.columns = df_sales_meesho.columns.str.strip()\n",
    "\n",
    "# Apply the update function\n",
    "df_inventory = update_inventory(df_sales_amazon, df_inventory)\n",
    "df_inventory = update_inventory(df_sales_flipkart, df_inventory)\n",
    "df_inventory = update_inventory(df_sales_meesho, df_inventory)\n"
   ]
  },
  {
   "cell_type": "code",
   "execution_count": 39,
   "id": "e33a9855-72dd-49e8-be27-adebdfb1e31a",
   "metadata": {},
   "outputs": [],
   "source": [
    "def process_combos(df_sales, df_combos, df_inventory):\n",
    "    for index, row in df_sales.iterrows():\n",
    "        msku = row[\"msku\"]  # Change \"Master SKU\" to \"msku\"\n",
    "        quantity_sold = row[\"quantity\"]\n",
    "\n",
    "        # Check if the SKU is part of a combo\n",
    "        if msku in df_combos[\"combo\"].values:  \n",
    "            combo_row = df_combos[df_combos[\"combo\"] == msku].iloc[0]\n",
    "\n",
    "            # Iterate over SKU columns (sku1, sku2, ..., sku14)\n",
    "            for i in range(1, 15):  \n",
    "                component_sku = combo_row.get(f\"sku{i}\")\n",
    "                if pd.notna(component_sku):  \n",
    "                    df_inventory.loc[df_inventory[\"msku\"] == component_sku, \"Current Stock\"] -= quantity_sold  \n",
    "\n",
    "    return df_inventory\n"
   ]
  },
  {
   "cell_type": "code",
   "execution_count": 40,
   "id": "21301a27-2872-4e94-b1a2-6b06be57a574",
   "metadata": {},
   "outputs": [
    {
     "name": "stdout",
     "output_type": "stream",
     "text": [
      "['Combo', 'SKU1', 'SKU2', 'SKU3', 'SKU4', 'SKU5', 'SKU6', 'SKU7', 'SKU8', 'SKU9', 'SKU10', 'SKU11', 'SKU12', 'SKU13', 'SKU14', 'Status', 'Unnamed: 16']\n"
     ]
    }
   ],
   "source": [
    "print(df_combos.columns.tolist())\n"
   ]
  },
  {
   "cell_type": "code",
   "execution_count": 45,
   "id": "8786a432-083a-41d6-8e26-678ff8464471",
   "metadata": {},
   "outputs": [
    {
     "name": "stderr",
     "output_type": "stream",
     "text": [
      "C:\\Users\\Tejas\\AppData\\Local\\Temp\\ipykernel_23700\\1082992265.py:6: SettingWithCopyWarning: \n",
      "A value is trying to be set on a copy of a slice from a DataFrame.\n",
      "Try using .loc[row_indexer,col_indexer] = value instead\n",
      "\n",
      "See the caveats in the documentation: https://pandas.pydata.org/pandas-docs/stable/user_guide/indexing.html#returning-a-view-versus-a-copy\n",
      "  df_inventory[\"Current Stock\"] = df_inventory[\"Opening Stock\"].copy()\n"
     ]
    }
   ],
   "source": [
    "import pandas as pd\n",
    "\n",
    "def process_combos(df_sales, df_combos, df_inventory):\n",
    "    # Ensure 'Current Stock' column exists\n",
    "    if \"Current Stock\" not in df_inventory.columns:\n",
    "        df_inventory[\"Current Stock\"] = df_inventory[\"Opening Stock\"].copy()\n",
    "    \n",
    "    for index, row in df_sales.iterrows():\n",
    "        msku = row.get(\"Master SKU\")  # Use .get() to avoid KeyError\n",
    "        quantity_sold = row.get(\"Quantity\", 0)\n",
    "\n",
    "        if pd.isna(msku) or pd.isna(quantity_sold):  # Skip invalid rows\n",
    "            continue\n",
    "\n",
    "        if msku in df_combos[\"Combo\"].values:\n",
    "            combo_components = df_combos[df_combos[\"Combo\"] == msku]\n",
    "\n",
    "            for _, component in combo_components.iterrows():\n",
    "                for i in range(1, 15):  # Loop through SKU1 to SKU14\n",
    "                    component_sku = component.get(f\"SKU{i}\")  # Get SKU dynamically\n",
    "                    if pd.notna(component_sku):  # Ignore NaN values\n",
    "                        # Ensure the SKU exists in inventory before subtracting\n",
    "                        mask = df_inventory[\"msku\"] == component_sku\n",
    "                        if mask.any():\n",
    "                            df_inventory.loc[mask, \"Current Stock\"] -= quantity_sold\n",
    "\n",
    "    return df_inventory\n",
    "\n",
    "# Process sales data for different platforms\n",
    "df_inventory = process_combos(df_sales_amazon, df_combos, df_inventory)\n",
    "df_inventory = process_combos(df_sales_flipkart, df_combos, df_inventory)\n",
    "df_inventory = process_combos(df_sales_meesho, df_combos, df_inventory)\n"
   ]
  },
  {
   "cell_type": "code",
   "execution_count": 44,
   "id": "0e0e414d-cbe7-44b4-828d-62c0c2010026",
   "metadata": {},
   "outputs": [
    {
     "name": "stdout",
     "output_type": "stream",
     "text": [
      "Index(['Product Name', 'msku', 'Opening Stock', 'Buffer Stock', 'TLCQ', 'BLR7',\n",
      "       'BLR8', 'BOM5', 'BOM7', 'CCU1', 'CCX1', 'DEL4', 'DEL5', 'DEX3', 'PNQ2',\n",
      "       'PNQ3', 'SDED', 'SDEE', 'XHJ9'],\n",
      "      dtype='object', name=0)\n"
     ]
    }
   ],
   "source": [
    "print(df_inventory.columns)\n"
   ]
  },
  {
   "cell_type": "code",
   "execution_count": 52,
   "id": "8149382a-20a3-4c6b-87a2-6147bfd23405",
   "metadata": {},
   "outputs": [
    {
     "name": "stdout",
     "output_type": "stream",
     "text": [
      "df_returns columns: ['Master SKU', 'Returned Quantity', 'Warehouse', 'Condition', 'Type']\n",
      "df_inwards columns: ['ITEM NAME', 'msku', 'New Stock', 'Purpose', 'Date']\n",
      "df_inventory columns: ['Product Name', 'msku', 'Opening Stock', 'Buffer Stock', 'TLCQ', 'BLR7', 'BLR8', 'BOM5', 'BOM7', 'CCU1', 'CCX1', 'DEL4', 'DEL5', 'DEX3', 'PNQ2', 'PNQ3', 'SDED', 'SDEE', 'XHJ9', 'Current Stock']\n",
      "     Product Name                      Master SKU Opening Stock Buffer Stock  \\\n",
      "0  Chimmy Pillow   CSTE_0001_ST_Bts_Pillow_Chimmy           193          NaN   \n",
      "1    Tata Pillow     CSTE_0002_ST_Bts_Pillow_Tata             0          NaN   \n",
      "2    Koya Pillow     CSTE_0003_ST_Bts_Pillow_Koya             0          NaN   \n",
      "3    Mang Pillow     CSTE_0004_ST_Bts_Pillow_Mang            21          NaN   \n",
      "4  Shooky Pillow   CSTE_0005_ST_Bts_Pillow_Shooky             0          NaN   \n",
      "\n",
      "  TLCQ BLR7 BLR8 BOM5 BOM7 CCU1  ... DEX3 PNQ2 PNQ3 SDED SDEE XHJ9  \\\n",
      "0  192    0    0    0   -1    0  ...    0    0    0    0    0    0   \n",
      "1    0    0    0    0    0    0  ...    0    0    0    0    0    0   \n",
      "2    0    0    0    0    0    0  ...    0    0    0    0    0    0   \n",
      "3   21    0    0    0    0    0  ...    0    0    0    0    0    0   \n",
      "4    0    0    0    0    0    0  ...    0    0    0    0    0    0   \n",
      "\n",
      "  Current Stock Returned Quantity New Stock  Final Stock  \n",
      "0         193.0               0.0       0.0        193.0  \n",
      "1           0.0               0.0       0.0          0.0  \n",
      "2           0.0               0.0       0.0          0.0  \n",
      "3          21.0               0.0       0.0         21.0  \n",
      "4           0.0               0.0       0.0          0.0  \n",
      "\n",
      "[5 rows x 23 columns]\n"
     ]
    }
   ],
   "source": [
    "df_returns.columns = df_returns.columns.str.strip()\n",
    "df_inwards.columns = df_inwards.columns.str.strip()\n",
    "df_inventory.columns = df_inventory.columns.str.strip()\n",
    "\n",
    "# Debugging: Print column names\n",
    "print(\"df_returns columns:\", df_returns.columns.tolist())\n",
    "print(\"df_inwards columns:\", df_inwards.columns.tolist())\n",
    "print(\"df_inventory columns:\", df_inventory.columns.tolist())\n",
    "\n",
    "# Rename columns to match expected names\n",
    "column_mappings = {\n",
    "    \"Msku\": \"Master SKU\",  # Some files use 'Msku', while others use 'msku'\n",
    "    \"msku\": \"Master SKU\",  # Ensure consistency with 'msku'\n",
    "    \"QTY\": \"Returned Quantity\",  # Rename quantity column if needed\n",
    "    \"NewStock\": \"New Stock\",  # Rename variations\n",
    "    \"CurrentStock\": \"Current Stock\"\n",
    "}\n",
    "\n",
    "df_returns.rename(columns=column_mappings, inplace=True)\n",
    "df_inwards.rename(columns=column_mappings, inplace=True)\n",
    "df_inventory.rename(columns=column_mappings, inplace=True)\n",
    "\n",
    "# Validate column presence\n",
    "required_columns = {\n",
    "    \"df_returns\": {\"Master SKU\", \"Returned Quantity\"},\n",
    "    \"df_inwards\": {\"Master SKU\", \"New Stock\"},\n",
    "    \"df_inventory\": {\"Master SKU\", \"Current Stock\"},\n",
    "}\n",
    "\n",
    "for df_name, cols in required_columns.items():\n",
    "    missing_cols = cols - set(eval(df_name).columns)\n",
    "    if missing_cols:\n",
    "        raise KeyError(f\"Missing columns in {df_name}: {missing_cols}\")\n",
    "\n",
    "# Convert 'Master SKU' to string to avoid merge issues\n",
    "df_returns[\"Master SKU\"] = df_returns[\"Master SKU\"].astype(str)\n",
    "df_inwards[\"Master SKU\"] = df_inwards[\"Master SKU\"].astype(str)\n",
    "df_inventory[\"Master SKU\"] = df_inventory[\"Master SKU\"].astype(str)\n",
    "\n",
    "# Merge returns and inwards stock data\n",
    "df_inventory = df_inventory.merge(df_returns[[\"Master SKU\", \"Returned Quantity\"]], on=\"Master SKU\", how=\"left\")\n",
    "df_inventory = df_inventory.merge(df_inwards[[\"Master SKU\", \"New Stock\"]], on=\"Master SKU\", how=\"left\")\n",
    "\n",
    "# Fill NaN values with 0\n",
    "df_inventory[\"Returned Quantity\"] = df_inventory[\"Returned Quantity\"].fillna(0)\n",
    "df_inventory[\"New Stock\"] = df_inventory[\"New Stock\"].fillna(0)\n",
    "\n",
    "# Ensure numeric columns for calculations\n",
    "df_inventory[\"Returned Quantity\"] = df_inventory[\"Returned Quantity\"].astype(float)\n",
    "df_inventory[\"New Stock\"] = df_inventory[\"New Stock\"].astype(float)\n",
    "df_inventory[\"Current Stock\"] = df_inventory[\"Current Stock\"].astype(float)\n",
    "\n",
    "# Calculate Final Stock\n",
    "df_inventory[\"Final Stock\"] = df_inventory[\"Current Stock\"] + df_inventory[\"Returned Quantity\"] + df_inventory[\"New Stock\"]\n",
    "\n",
    "# Debugging Output\n",
    "print(df_inventory.head())"
   ]
  },
  {
   "cell_type": "code",
   "execution_count": 54,
   "id": "51e14880-8154-4b9b-9813-e57ade3d7e5e",
   "metadata": {},
   "outputs": [
    {
     "name": "stdout",
     "output_type": "stream",
     "text": [
      " ['Msku', 'QTY', 'Purpose', 'Date', 'Warehouse Name(IF FBA)']\n",
      " ['Product Name', 'Master SKU', 'Opening Stock', 'Buffer Stock', 'TLCQ', 'BLR7', 'BLR8', 'BOM5', 'BOM7', 'CCU1', 'CCX1', 'DEL4', 'DEL5', 'DEX3', 'PNQ2', 'PNQ3', 'SDED', 'SDEE', 'XHJ9', 'Current Stock', 'Returned Quantity', 'New Stock', 'Final Stock']\n"
     ]
    }
   ],
   "source": [
    "print(\"\", df_outflow.columns.tolist())\n",
    "print(\"\", df_inventory.columns.tolist())\n"
   ]
  },
  {
   "cell_type": "code",
   "execution_count": 55,
   "id": "f3b708d3-e29c-4ece-8ab1-dbcf722f0ab6",
   "metadata": {},
   "outputs": [
    {
     "name": "stdout",
     "output_type": "stream",
     "text": [
      "df_outflow columns: ['Msku', 'QTY', 'Purpose', 'Date', 'Warehouse Name(IF FBA)']\n",
      "df_inventory columns: ['Product Name', 'Master SKU', 'Opening Stock', 'Buffer Stock', 'TLCQ', 'BLR7', 'BLR8', 'BOM5', 'BOM7', 'CCU1', 'CCX1', 'DEL4', 'DEL5', 'DEX3', 'PNQ2', 'PNQ3', 'SDED', 'SDEE', 'XHJ9', 'Current Stock', 'Returned Quantity', 'New Stock', 'Final Stock']\n",
      "     Product Name                      Master SKU Opening Stock Buffer Stock  \\\n",
      "0  Chimmy Pillow   CSTE_0001_ST_Bts_Pillow_Chimmy           193          NaN   \n",
      "1    Tata Pillow     CSTE_0002_ST_Bts_Pillow_Tata             0          NaN   \n",
      "2    Koya Pillow     CSTE_0003_ST_Bts_Pillow_Koya             0          NaN   \n",
      "3    Mang Pillow     CSTE_0004_ST_Bts_Pillow_Mang            21          NaN   \n",
      "4  Shooky Pillow   CSTE_0005_ST_Bts_Pillow_Shooky             0          NaN   \n",
      "\n",
      "  TLCQ BLR7 BLR8 BOM5 BOM7 CCU1  ... PNQ2 PNQ3 SDED SDEE XHJ9 Current Stock  \\\n",
      "0  192    0    0    0   -1    0  ...    0    0    0    0    0         193.0   \n",
      "1    0    0    0    0    0    0  ...    0    0    0    0    0           0.0   \n",
      "2    0    0    0    0    0    0  ...    0    0    0    0    0           0.0   \n",
      "3   21    0    0    0    0    0  ...    0    0    0    0    0          21.0   \n",
      "4    0    0    0    0    0    0  ...    0    0    0    0    0           0.0   \n",
      "\n",
      "  Returned Quantity New Stock Final Stock  Outflow Quantity  \n",
      "0               0.0       0.0       193.0               0.0  \n",
      "1               0.0       0.0         0.0               0.0  \n",
      "2               0.0       0.0         0.0               0.0  \n",
      "3               0.0       0.0        21.0               0.0  \n",
      "4               0.0       0.0         0.0               0.0  \n",
      "\n",
      "[5 rows x 24 columns]\n"
     ]
    }
   ],
   "source": [
    "import pandas as pd\n",
    "\n",
    "# Standardize column names (strip spaces)\n",
    "df_outflow.columns = df_outflow.columns.str.strip()\n",
    "df_inventory.columns = df_inventory.columns.str.strip()\n",
    "\n",
    "# Debugging: Print column names before merging\n",
    "print(\"df_outflow columns:\", df_outflow.columns.tolist())\n",
    "print(\"df_inventory columns:\", df_inventory.columns.tolist())\n",
    "\n",
    "# Rename columns to match expected names\n",
    "df_outflow.rename(columns={\"Msku\": \"Master SKU\", \"QTY\": \"Outflow Quantity\"}, inplace=True)\n",
    "\n",
    "# Validate column presence\n",
    "required_columns = {\n",
    "    \"df_outflow\": {\"Master SKU\", \"Outflow Quantity\"},\n",
    "    \"df_inventory\": {\"Master SKU\", \"Final Stock\"},\n",
    "}\n",
    "\n",
    "for df_name, cols in required_columns.items():\n",
    "    missing_cols = cols - set(eval(df_name).columns)\n",
    "    if missing_cols:\n",
    "        raise KeyError(f\"Missing columns in {df_name}: {missing_cols}\")\n",
    "\n",
    "# Convert 'Master SKU' to string for consistency\n",
    "df_outflow[\"Master SKU\"] = df_outflow[\"Master SKU\"].astype(str)\n",
    "df_inventory[\"Master SKU\"] = df_inventory[\"Master SKU\"].astype(str)\n",
    "\n",
    "# Merge outflow stock data\n",
    "df_inventory = df_inventory.merge(df_outflow[[\"Master SKU\", \"Outflow Quantity\"]], on=\"Master SKU\", how=\"left\")\n",
    "\n",
    "# Fill NaN values with 0\n",
    "df_inventory[\"Outflow Quantity\"] = df_inventory[\"Outflow Quantity\"].fillna(0).astype(float)\n",
    "\n",
    "# Subtract Outflow from Final Stock\n",
    "df_inventory[\"Final Stock\"] -= df_inventory[\"Outflow Quantity\"]\n",
    "\n",
    "# Debugging Output\n",
    "print(df_inventory.head())\n"
   ]
  },
  {
   "cell_type": "code",
   "execution_count": 56,
   "id": "75f0d111-59a7-4818-8f3d-8084abf5b9d5",
   "metadata": {},
   "outputs": [
    {
     "name": "stdout",
     "output_type": "stream",
     "text": [
      "Final inventory saved successfully!\n"
     ]
    }
   ],
   "source": [
    "df_inventory.to_excel(\"processed_inventory.xlsx\", index=False)\n",
    "print(\"Final inventory saved successfully!\")\n"
   ]
  },
  {
   "cell_type": "code",
   "execution_count": null,
   "id": "d42856fc-b0c5-445b-8ff3-87798a320e2b",
   "metadata": {},
   "outputs": [],
   "source": []
  }
 ],
 "metadata": {
  "kernelspec": {
   "display_name": "Python 3 (ipykernel)",
   "language": "python",
   "name": "python3"
  },
  "language_info": {
   "codemirror_mode": {
    "name": "ipython",
    "version": 3
   },
   "file_extension": ".py",
   "mimetype": "text/x-python",
   "name": "python",
   "nbconvert_exporter": "python",
   "pygments_lexer": "ipython3",
   "version": "3.11.7"
  }
 },
 "nbformat": 4,
 "nbformat_minor": 5
}
